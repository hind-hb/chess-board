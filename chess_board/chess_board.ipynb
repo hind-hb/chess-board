{
 "cells": [
  {
   "cell_type": "code",
   "execution_count": null,
   "metadata": {},
   "outputs": [],
   "source": [
    "\n",
    "import numpy as np  # linear algebra\n",
    "import matplotlib.pyplot as plt # matplotlib\n",
    "grid = None"
   ]
  },
  {
   "cell_type": "code",
   "execution_count": null,
   "metadata": {},
   "outputs": [],
   "source": [
    "class ChessBoard:\n",
    "    # class for chessBoard\n",
    "    def __init__(self):\n",
    "        self.grid = np.zeros((8,8,3), np.float64)\n",
    "        x = 1\n",
    "        for i in range(8):\n",
    "            for j in range(8):\n",
    "                x = 0 if x else 1\n",
    "                if i % 2 == x and j % 2 == x:\n",
    "                    self.grid[i][j] = np.array((1,1,1))\n",
    "\n",
    "        self.red = []\n",
    "        self.blue = []\n",
    "        \n",
    "    def add_red(self,row,col):\n",
    "        # to add red color\n",
    "        red = (1, 0, 0)\n",
    "        self.grid[row][col] = red\n",
    "        self.red = [row, col]\n",
    "        \n",
    "    def add_blue(self,row,col):\n",
    "        # to add blue color\n",
    "        blue = (0, 0, 1)\n",
    "        self.grid[row][col] = blue\n",
    "        self.blue = [ row, col]\n",
    "        \n",
    "    def render(self):\n",
    "\n",
    "        plt.imshow(self.grid)\n",
    "        \n",
    "        \n",
    "        \n",
    "    def is_under_attack(self):\n",
    "        # to check if under attack or not \n",
    "        if self.red[0] == self.blue[0] or self.red[1] == self.blue[1]:\n",
    "            return True\n",
    "# \n",
    "        else:\n",
    "            return False"
   ]
  },
  {
   "cell_type": "code",
   "execution_count": null,
   "metadata": {},
   "outputs": [],
   "source": [
    "test = ChessBoard()\n",
    "test.render()\n",
    "test.add_red(1, 1)\n",
    "test.add_blue(6, 6)\n",
    "print(test.is_under_attack())\n",
    "test.render()"
   ]
  },
  {
   "cell_type": "markdown",
   "metadata": {},
   "source": [
    "# Test Chess Board"
   ]
  },
  {
   "cell_type": "code",
   "execution_count": null,
   "metadata": {},
   "outputs": [],
   "source": [
    "test = ChessBoard()\n",
    "test.add_red(2, 4)\n",
    "test.add_blue(2, 6)\n",
    "test.render()\n",
    "actual = test.is_under_attack()\n",
    "print(actual)\n",
    "expected = True\n",
    "assert actual == expected"
   ]
  },
  {
   "cell_type": "code",
   "execution_count": null,
   "metadata": {},
   "outputs": [],
   "source": [
    "test = ChessBoard()\n",
    "test.add_red(2, 3)\n",
    "test.add_blue(6, 2)\n",
    "test.render()\n",
    "actual = test.is_under_attack()\n",
    "print(actual)\n",
    "expected = False\n",
    "assert actual == expected"
   ]
  }
 ],
 "metadata": {
  "interpreter": {
   "hash": "4e4572323326ed5df2cab164b1b878d89803efefdfdd23a076f821cb13a76bfc"
  },
  "kernelspec": {
   "display_name": "Python 3.9.5 64-bit ('3.9.5')",
   "language": "python",
   "name": "python3"
  },
  "language_info": {
   "codemirror_mode": {
    "name": "ipython",
    "version": 3
   },
   "file_extension": ".py",
   "mimetype": "text/x-python",
   "name": "python",
   "nbconvert_exporter": "python",
   "pygments_lexer": "ipython3",
   "version": "3.9.5"
  },
  "orig_nbformat": 4
 },
 "nbformat": 4,
 "nbformat_minor": 2
}
